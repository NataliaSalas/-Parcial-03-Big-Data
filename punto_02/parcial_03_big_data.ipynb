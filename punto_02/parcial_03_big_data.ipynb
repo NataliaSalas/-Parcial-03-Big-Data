{
 "cells": [
  {
   "cell_type": "code",
   "execution_count": 1,
   "id": "d49102ed",
   "metadata": {},
   "outputs": [
    {
     "data": {
      "application/vnd.jupyter.widget-view+json": {
       "model_id": "",
       "version_major": 2,
       "version_minor": 0
      },
      "text/plain": [
       "VBox()"
      ]
     },
     "metadata": {},
     "output_type": "display_data"
    },
    {
     "name": "stdout",
     "output_type": "stream",
     "text": [
      "Starting Spark application\n"
     ]
    },
    {
     "data": {
      "text/html": [
       "<table>\n",
       "<tr><th>ID</th><th>YARN Application ID</th><th>Kind</th><th>State</th><th>Spark UI</th><th>Driver log</th><th>User</th><th>Current session?</th></tr><tr><td>1</td><td>application_1685071201636_0002</td><td>pyspark</td><td>idle</td><td><a target=\"_blank\" href=\"http://ip-172-31-1-110.ec2.internal:20888/proxy/application_1685071201636_0002/\" class=\"emr-proxy-link\" emr-resource=\"j-1GC62MUBCZ1VH\n",
       "\" application-id=\"application_1685071201636_0002\">Link</a></td><td><a target=\"_blank\" href=\"http://ip-172-31-11-66.ec2.internal:8042/node/containerlogs/container_1685071201636_0002_01_000001/livy\" >Link</a></td><td>None</td><td>✔</td></tr></table>"
      ],
      "text/plain": [
       "<IPython.core.display.HTML object>"
      ]
     },
     "metadata": {},
     "output_type": "display_data"
    },
    {
     "data": {
      "application/vnd.jupyter.widget-view+json": {
       "model_id": "",
       "version_major": 2,
       "version_minor": 0
      },
      "text/plain": [
       "FloatProgress(value=0.0, bar_style='info', description='Progress:', layout=Layout(height='25px', width='50%'),…"
      ]
     },
     "metadata": {},
     "output_type": "display_data"
    },
    {
     "name": "stdout",
     "output_type": "stream",
     "text": [
      "SparkSession available as 'spark'.\n"
     ]
    },
    {
     "data": {
      "application/vnd.jupyter.widget-view+json": {
       "model_id": "",
       "version_major": 2,
       "version_minor": 0
      },
      "text/plain": [
       "FloatProgress(value=0.0, bar_style='info', description='Progress:', layout=Layout(height='25px', width='50%'),…"
      ]
     },
     "metadata": {},
     "output_type": "display_data"
    },
    {
     "name": "stdout",
     "output_type": "stream",
     "text": [
      "<pyspark.sql.session.SparkSession object at 0x7f9cae7a13d0>"
     ]
    }
   ],
   "source": [
    "spark"
   ]
  },
  {
   "cell_type": "code",
   "execution_count": 2,
   "id": "c14984c6",
   "metadata": {},
   "outputs": [
    {
     "data": {
      "application/vnd.jupyter.widget-view+json": {
       "model_id": "e3bdc0ea83c44199ad873ae18da82f8b",
       "version_major": 2,
       "version_minor": 0
      },
      "text/plain": [
       "VBox()"
      ]
     },
     "metadata": {},
     "output_type": "display_data"
    },
    {
     "data": {
      "application/vnd.jupyter.widget-view+json": {
       "model_id": "",
       "version_major": 2,
       "version_minor": 0
      },
      "text/plain": [
       "FloatProgress(value=0.0, bar_style='info', description='Progress:', layout=Layout(height='25px', width='50%'),…"
      ]
     },
     "metadata": {},
     "output_type": "display_data"
    }
   ],
   "source": [
    "df_EE = spark.read.csv('s3://parcial-2-big-data/headlines/final/periodico=elespectador/year=2023/month=04/day=27/elEspectador2023-04-27.csv')\n",
    "df_ET = spark.read.csv('s3://parcial-2-big-data/headlines/final/periodico=eltiempo/year=2023/month=04/day=27/elTiempo2023-04-27.csv')"
   ]
  },
  {
   "cell_type": "code",
   "execution_count": 4,
   "id": "1f12cc9e",
   "metadata": {},
   "outputs": [
    {
     "data": {
      "application/vnd.jupyter.widget-view+json": {
       "model_id": "62e30cdd3f6f4146b30bdb2ed0947188",
       "version_major": 2,
       "version_minor": 0
      },
      "text/plain": [
       "VBox()"
      ]
     },
     "metadata": {},
     "output_type": "display_data"
    },
    {
     "data": {
      "application/vnd.jupyter.widget-view+json": {
       "model_id": "",
       "version_major": 2,
       "version_minor": 0
      },
      "text/plain": [
       "FloatProgress(value=0.0, bar_style='info', description='Progress:', layout=Layout(height='25px', width='50%'),…"
      ]
     },
     "metadata": {},
     "output_type": "display_data"
    }
   ],
   "source": [
    "from pyspark.ml import Pipeline\n",
    "from pyspark.ml.feature import StringIndexer, Tokenizer, HashingTF, IDF\n",
    "from pyspark.sql import SparkSession\n",
    "\n",
    "category_indexer = StringIndexer(inputCol=\"_c0\", outputCol=\"label\")\n",
    "tokenizer = Tokenizer(inputCol=\"_c1\", outputCol=\"words\")\n",
    "hashing_tf = HashingTF(inputCol=\"words\", outputCol=\"rawFeatures\")\n",
    "idf = IDF(inputCol=\"rawFeatures\", outputCol=\"features\")\n",
    "\n",
    "\n",
    "pipeline = Pipeline(stages=[category_indexer, tokenizer, hashing_tf, idf])\n",
    "pipeline_model = pipeline.fit(df_EE)\n",
    "processed_data = pipeline_model.transform(df_EE)\n",
    "processed_data.write.format(\"parquet\").save(\"s3://parcial-03-big-data/token_espectador\")\n"
   ]
  },
  {
   "cell_type": "code",
   "execution_count": 6,
   "id": "d46182ba",
   "metadata": {},
   "outputs": [
    {
     "data": {
      "application/vnd.jupyter.widget-view+json": {
       "model_id": "868f7a9bae2c44b7a4be43051f3f1cda",
       "version_major": 2,
       "version_minor": 0
      },
      "text/plain": [
       "VBox()"
      ]
     },
     "metadata": {},
     "output_type": "display_data"
    },
    {
     "data": {
      "application/vnd.jupyter.widget-view+json": {
       "model_id": "",
       "version_major": 2,
       "version_minor": 0
      },
      "text/plain": [
       "FloatProgress(value=0.0, bar_style='info', description='Progress:', layout=Layout(height='25px', width='50%'),…"
      ]
     },
     "metadata": {},
     "output_type": "display_data"
    }
   ],
   "source": [
    "pipeline = Pipeline(stages=[category_indexer, tokenizer, hashing_tf, idf])\n",
    "pipeline_model = pipeline.fit(df_ET)\n",
    "processed_data = pipeline_model.transform(df_ET)\n",
    "processed_data.write.format(\"parquet\").save(\"s3://parcial-03-big-data/token_tiempo\")"
   ]
  }
 ],
 "metadata": {
  "kernelspec": {
   "display_name": "PySpark",
   "language": "python",
   "name": "pysparkkernel"
  },
  "language_info": {
   "codemirror_mode": {
    "name": "python",
    "version": 3
   },
   "file_extension": ".py",
   "mimetype": "text/x-python",
   "name": "pyspark",
   "pygments_lexer": "python3"
  }
 },
 "nbformat": 4,
 "nbformat_minor": 5
}
